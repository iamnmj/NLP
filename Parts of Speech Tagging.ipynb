{
 "cells": [
  {
   "cell_type": "markdown",
   "id": "06463907",
   "metadata": {},
   "source": [
    "### Parts of Speech Tags\n",
    "\n",
    "\"Taj Mahajl is a beautiful Monument\""
   ]
  },
  {
   "cell_type": "code",
   "execution_count": null,
   "id": "6da08f2a",
   "metadata": {},
   "outputs": [],
   "source": [
    "CC coordinating conjunction \n",
    "    CD cardinal digit \n",
    "    DT determiner \n",
    "    EX existential there (like: “there is” … think of it like “there exists”) \n",
    "    FW foreign word \n",
    "    IN preposition/subordinating conjunction \n",
    "    JJ adjective – ‘big’ \n",
    "    JJR adjective, comparative – ‘bigger’ \n",
    "    JJS adjective, superlative – ‘biggest’ \n",
    "    LS list marker 1) \n",
    "    MD modal – could, will \n",
    "    NN noun, singular ‘- desk’ \n",
    "    NNS noun plural – ‘desks’ \n",
    "    NNP proper noun, singular – ‘Harrison’ \n",
    "    NNPS proper noun, plural – ‘Americans’ \n",
    "    PDT predeterminer – ‘all the kids’ \n",
    "    POS possessive ending parent’s \n",
    "    PRP personal pronoun –  I, he, she \n",
    "    PRP$ possessive pronoun – my, his, hers \n",
    "    RB adverb – very, silently, \n",
    "    RBR adverb, comparative – better \n",
    "    RBS adverb, superlative – best \n",
    "    RP particle – give up \n",
    "    TO – to go ‘to’ the store. \n",
    "    UH interjection – errrrrrrrm \n",
    "    VB verb, base form – take \n",
    "    VBD verb, past tense – took \n",
    "    VBG verb, gerund/present participle – taking \n",
    "    VBN verb, past participle – taken \n",
    "    VBP verb, sing. present, non-3d – take \n",
    "    VBZ verb, 3rd person sing. present – takes \n",
    "    WDT wh-determiner – which \n",
    "    WP wh-pronoun – who, what \n",
    "    WP$ possessive wh-pronoun, eg- whose \n",
    "    WRB wh-adverb, eg- where, when"
   ]
  },
  {
   "cell_type": "code",
   "execution_count": 2,
   "id": "2b21d458",
   "metadata": {},
   "outputs": [],
   "source": [
    "## Speech of Dr. APJ Abdul Kalam\n",
    "paragraph = \"\"\" I have three visions for India. In 3000 years of our history, people from all over the world have come and invaded us, captured our lands, conquered our minds. \\n\",\n",
    " From Alexander onwards, the Greeks, the Turks, the Moguls, the Portuguese, the British,\n",
    "  the French, the Dutch, all of them came and looted us, took over what was ours. \n",
    "  Yet we have not done this to any other nation. We have not conquered anyone. \n",
    "  We have not grabbed their land, their culture, \n",
    " their history and tried to enforce our way of life on them. \n",
    "   Why? Because we respect the freedom of others.That is why my \n",
    "   first vision is that of freedom. I believe that India got its first vision of \n",
    "   this in 1857, when we started the War of Independence. It is this freedom that\n",
    "    we must protect and nurture and build on. If we are not free, no one will respect us.\n",
    "    My second vision for India’s development. For fifty years we have been a developing nation.\n",
    "   It is time we see ourselves as a developed nation. We are among the top 5 nations of the world\n",
    " in terms of GDP. We have a 10 percent growth rate in most areas. Our poverty levels are falling.\n",
    "   Our achievements are being globally recognised today. Yet we lack the self-confidence to,\n",
    "   see ourselves as a developed nation, self-reliant and self-assured. Isn’t this incorrect?\n",
    "I have a third vision. India must stand up to the world. Because I believe that unless India \n",
    " stands up to the world, no one will respect us. Only strength respects strength. We must be\n",
    "   strong not only as a military power but also as an economic power. Both must go hand-in-hand. \n",
    " My good fortune was to have worked with three great minds. Dr. Vikram Sarabhai of the Dept. of \n",
    "space, Professor Satish Dhawan, who succeeded him and Dr. Brahm Prakash, father of nuclear material.\n",
    " I was lucky to have worked with all three of them closely and consider this the great opportunity of my life. \n",
    " I see four milestones in my career\"\"\""
   ]
  },
  {
   "cell_type": "code",
   "execution_count": 5,
   "id": "4a7dc112",
   "metadata": {},
   "outputs": [
    {
     "name": "stderr",
     "output_type": "stream",
     "text": [
      "[nltk_data] Downloading package stopwords to\n",
      "[nltk_data]     C:\\Users\\mpowe\\AppData\\Roaming\\nltk_data...\n",
      "[nltk_data]   Package stopwords is already up-to-date!\n"
     ]
    }
   ],
   "source": [
    "from nltk.stem import PorterStemmer\n",
    "from nltk.corpus import stopwords\n",
    "from nltk.tokenize import sent_tokenize\n",
    "import nltk\n",
    "nltk.download('stopwords')\n",
    "stemmer = PorterStemmer()\n",
    "sentences = sent_tokenize(paragraph)"
   ]
  },
  {
   "cell_type": "code",
   "execution_count": 6,
   "id": "9e423a3c",
   "metadata": {},
   "outputs": [
    {
     "data": {
      "text/plain": [
       "[' I have three visions for India.',\n",
       " 'In 3000 years of our history, people from all over the world have come and invaded us, captured our lands, conquered our minds.',\n",
       " '\",\\n From Alexander onwards, the Greeks, the Turks, the Moguls, the Portuguese, the British,\\n  the French, the Dutch, all of them came and looted us, took over what was ours.',\n",
       " 'Yet we have not done this to any other nation.',\n",
       " 'We have not conquered anyone.',\n",
       " 'We have not grabbed their land, their culture, \\n their history and tried to enforce our way of life on them.',\n",
       " 'Why?',\n",
       " 'Because we respect the freedom of others.That is why my \\n   first vision is that of freedom.',\n",
       " 'I believe that India got its first vision of \\n   this in 1857, when we started the War of Independence.',\n",
       " 'It is this freedom that\\n    we must protect and nurture and build on.',\n",
       " 'If we are not free, no one will respect us.',\n",
       " 'My second vision for India’s development.',\n",
       " 'For fifty years we have been a developing nation.',\n",
       " 'It is time we see ourselves as a developed nation.',\n",
       " 'We are among the top 5 nations of the world\\n in terms of GDP.',\n",
       " 'We have a 10 percent growth rate in most areas.',\n",
       " 'Our poverty levels are falling.',\n",
       " 'Our achievements are being globally recognised today.',\n",
       " 'Yet we lack the self-confidence to,\\n   see ourselves as a developed nation, self-reliant and self-assured.',\n",
       " 'Isn’t this incorrect?',\n",
       " 'I have a third vision.',\n",
       " 'India must stand up to the world.',\n",
       " 'Because I believe that unless India \\n stands up to the world, no one will respect us.',\n",
       " 'Only strength respects strength.',\n",
       " 'We must be\\n   strong not only as a military power but also as an economic power.',\n",
       " 'Both must go hand-in-hand.',\n",
       " 'My good fortune was to have worked with three great minds.',\n",
       " 'Dr. Vikram Sarabhai of the Dept.',\n",
       " 'of \\nspace, Professor Satish Dhawan, who succeeded him and Dr. Brahm Prakash, father of nuclear material.',\n",
       " 'I was lucky to have worked with all three of them closely and consider this the great opportunity of my life.',\n",
       " 'I see four milestones in my career']"
      ]
     },
     "execution_count": 6,
     "metadata": {},
     "output_type": "execute_result"
    }
   ],
   "source": [
    "sentences\n"
   ]
  },
  {
   "cell_type": "code",
   "execution_count": null,
   "id": "b0cf908a",
   "metadata": {},
   "outputs": [],
   "source": []
  },
  {
   "cell_type": "code",
   "execution_count": 11,
   "id": "3cfe7eae",
   "metadata": {},
   "outputs": [
    {
     "name": "stderr",
     "output_type": "stream",
     "text": [
      "[nltk_data] Downloading package averaged_perceptron_tagger to\n",
      "[nltk_data]     C:\\Users\\mpowe\\AppData\\Roaming\\nltk_data...\n",
      "[nltk_data]   Package averaged_perceptron_tagger is already up-to-\n",
      "[nltk_data]       date!\n"
     ]
    },
    {
     "name": "stdout",
     "output_type": "stream",
     "text": [
      "[('i', 'JJ'), ('three', 'CD'), ('vision', 'NN'), ('india', 'NN'), ('.', '.')]\n",
      "[('in', 'IN'), ('3000', 'CD'), ('year', 'NN'), ('histori', 'NN'), (',', ','), ('peopl', 'JJ'), ('world', 'NN'), ('come', 'VBP'), ('invad', 'NN'), ('us', 'PRP'), (',', ','), ('captur', 'JJ'), ('land', 'NN'), (',', ','), ('conquer', 'NN'), ('mind', 'NN'), ('.', '.')]\n",
      "[('``', '``'), (',', ','), ('from', 'IN'), ('alexand', 'NN'), ('onward', 'NN'), (',', ','), ('greek', 'JJ'), (',', ','), ('turk', 'NN'), (',', ','), ('mogul', 'NN'), (',', ','), ('portugues', 'NNS'), (',', ','), ('british', 'JJ'), (',', ','), ('french', 'JJ'), (',', ','), ('dutch', 'VB'), (',', ','), ('came', 'VBD'), ('loot', 'JJ'), ('us', 'PRP'), (',', ','), ('took', 'VBD'), ('.', '.')]\n",
      "[('yet', 'RB'), ('done', 'VBN'), ('nation', 'NN'), ('.', '.')]\n",
      "[('we', 'PRP'), ('conquer', 'VBP'), ('anyon', 'RB'), ('.', '.')]\n",
      "[('we', 'PRP'), ('grab', 'VBP'), ('land', 'NN'), (',', ','), ('cultur', 'NN'), (',', ','), ('histori', 'JJ'), ('tri', 'NN'), ('enforc', 'NN'), ('way', 'NN'), ('life', 'NN'), ('.', '.')]\n",
      "[('whi', 'NN'), ('?', '.')]\n",
      "[('becaus', 'NN'), ('respect', 'NN'), ('freedom', 'NN'), ('others.that', 'IN'), ('first', 'JJ'), ('vision', 'NN'), ('freedom', 'NN'), ('.', '.')]\n",
      "[('i', 'NN'), ('believ', 'VBP'), ('india', 'NN'), ('got', 'VBD'), ('first', 'JJ'), ('vision', 'NN'), ('1857', 'CD'), (',', ','), ('start', 'VBP'), ('war', 'NN'), ('independ', 'NN'), ('.', '.')]\n",
      "[('it', 'PRP'), ('freedom', 'NN'), ('must', 'MD'), ('protect', 'VB'), ('nurtur', 'JJ'), ('build', 'NN'), ('.', '.')]\n",
      "[('if', 'IN'), ('free', 'JJ'), (',', ','), ('one', 'CD'), ('respect', 'NN'), ('us', 'PRP'), ('.', '.')]\n",
      "[('my', 'PRP$'), ('second', 'JJ'), ('vision', 'NN'), ('india', 'NN'), ('’', 'NNP'), ('develop', 'NN'), ('.', '.')]\n",
      "[('for', 'IN'), ('fifti', 'JJ'), ('year', 'NN'), ('develop', 'NN'), ('nation', 'NN'), ('.', '.')]\n",
      "[('it', 'PRP'), ('time', 'NN'), ('see', 'VB'), ('develop', 'JJ'), ('nation', 'NN'), ('.', '.')]\n",
      "[('we', 'PRP'), ('among', 'IN'), ('top', 'JJ'), ('5', 'CD'), ('nation', 'NN'), ('world', 'NN'), ('term', 'NN'), ('gdp', 'NN'), ('.', '.')]\n",
      "[('we', 'PRP'), ('10', 'CD'), ('percent', 'JJ'), ('growth', 'NN'), ('rate', 'NN'), ('area', 'NN'), ('.', '.')]\n",
      "[('our', 'PRP$'), ('poverti', 'NNS'), ('level', 'VBP'), ('fall', 'NN'), ('.', '.')]\n",
      "[('our', 'PRP$'), ('achiev', 'NN'), ('global', 'JJ'), ('recognis', 'NN'), ('today', 'NN'), ('.', '.')]\n",
      "[('yet', 'RB'), ('lack', 'JJ'), ('self-confid', 'JJ'), (',', ','), ('see', 'VB'), ('develop', 'JJ'), ('nation', 'NN'), (',', ','), ('self-reli', 'JJ'), ('self-assur', 'NN'), ('.', '.')]\n",
      "[('isn', 'NN'), ('’', 'NN'), ('incorrect', 'NN'), ('?', '.')]\n",
      "[('i', 'JJ'), ('third', 'JJ'), ('vision', 'NN'), ('.', '.')]\n",
      "[('india', 'NN'), ('must', 'MD'), ('stand', 'VB'), ('world', 'NN'), ('.', '.')]\n",
      "[('becaus', 'NN'), ('i', 'NN'), ('believ', 'VBP'), ('unless', 'IN'), ('india', 'JJ'), ('stand', 'NN'), ('world', 'NN'), (',', ','), ('one', 'CD'), ('respect', 'NN'), ('us', 'PRP'), ('.', '.')]\n",
      "[('onli', 'JJ'), ('strength', 'NN'), ('respect', 'NN'), ('strength', 'NN'), ('.', '.')]\n",
      "[('we', 'PRP'), ('must', 'MD'), ('strong', 'JJ'), ('militari', 'NN'), ('power', 'NN'), ('also', 'RB'), ('econom', 'JJ'), ('power', 'NN'), ('.', '.')]\n",
      "[('both', 'DT'), ('must', 'MD'), ('go', 'VB'), ('hand-in-hand', 'NN'), ('.', '.')]\n",
      "[('my', 'PRP$'), ('good', 'JJ'), ('fortun', 'NN'), ('work', 'NN'), ('three', 'CD'), ('great', 'JJ'), ('mind', 'NN'), ('.', '.')]\n",
      "[('dr.', 'NN'), ('vikram', 'NN'), ('sarabhai', 'NN'), ('dept', 'NN'), ('.', '.')]\n",
      "[('space', 'NN'), (',', ','), ('professor', 'NN'), ('satish', 'JJ'), ('dhawan', 'NN'), (',', ','), ('succeed', 'VB'), ('dr.', 'JJ'), ('brahm', 'NN'), ('prakash', 'NN'), (',', ','), ('father', 'RB'), ('nuclear', 'JJ'), ('materi', 'NN'), ('.', '.')]\n",
      "[('i', 'NN'), ('lucki', 'NN'), ('work', 'NN'), ('three', 'CD'), ('close', 'JJ'), ('consid', 'NN'), ('great', 'JJ'), ('opportun', 'JJ'), ('life', 'NN'), ('.', '.')]\n",
      "[('i', 'NNS'), ('see', 'VBP'), ('four', 'CD'), ('mileston', 'NNS'), ('career', 'NN')]\n"
     ]
    }
   ],
   "source": [
    "nltk.download('averaged_perceptron_tagger')\n",
    "### we will find out the part of speech tag\n",
    "\n",
    "for i in range(len(sentences)):\n",
    "    words = nltk.word_tokenize(sentences[i])\n",
    "    non_stop_words = [stemmer.stem(j) for j in words if j not in set(stopwords.words('english'))] # list comprehension\n",
    "    #sentences[i] = ' '.join(non_stop_words)\n",
    "    pos_tag = nltk.pos_tag(words)\n",
    "    print(pos_tag)"
   ]
  },
  {
   "cell_type": "code",
   "execution_count": 23,
   "id": "0998fd33",
   "metadata": {},
   "outputs": [
    {
     "name": "stdout",
     "output_type": "stream",
     "text": [
      "[('Taj', 'NN')]\n",
      "[('Mahal', 'NN')]\n",
      "[('is', 'VBZ')]\n",
      "[('a', 'DT')]\n",
      "[('beautiful', 'NN')]\n",
      "[('monument', 'NN')]\n"
     ]
    }
   ],
   "source": [
    "# nltk.pos_tag(\"Taj Mahal is a beautiful monument\")## this won't work as pos_tag expects a list of strings\n",
    "\n",
    "for i in \"Taj Mahal is a beautiful monument\".split():\n",
    "    print(nltk.pos_tag([i]))"
   ]
  },
  {
   "cell_type": "code",
   "execution_count": null,
   "id": "dd9ff2a8",
   "metadata": {},
   "outputs": [],
   "source": []
  }
 ],
 "metadata": {
  "kernelspec": {
   "display_name": "Python 3 (ipykernel)",
   "language": "python",
   "name": "python3"
  },
  "language_info": {
   "codemirror_mode": {
    "name": "ipython",
    "version": 3
   },
   "file_extension": ".py",
   "mimetype": "text/x-python",
   "name": "python",
   "nbconvert_exporter": "python",
   "pygments_lexer": "ipython3",
   "version": "3.10.9"
  }
 },
 "nbformat": 4,
 "nbformat_minor": 5
}
