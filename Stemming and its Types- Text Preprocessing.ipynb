{
 "cells": [
  {
   "cell_type": "code",
   "execution_count": 1,
   "id": "b1a5f7a0",
   "metadata": {},
   "outputs": [],
   "source": [
    "#Stemming and its types"
   ]
  },
  {
   "cell_type": "code",
   "execution_count": 14,
   "id": "bf0a9f23",
   "metadata": {},
   "outputs": [],
   "source": [
    "words = [\"eating\",\"eats\",\"eaten\",\"writing\",\"writes\",\"programming\",\"programs\"]"
   ]
  },
  {
   "cell_type": "markdown",
   "id": "2e0ce0f1",
   "metadata": {},
   "source": [
    "### PorterStemmer\n"
   ]
  },
  {
   "cell_type": "code",
   "execution_count": 2,
   "id": "858575fc",
   "metadata": {},
   "outputs": [],
   "source": [
    "from nltk.stem import PorterStemmer"
   ]
  },
  {
   "cell_type": "code",
   "execution_count": 3,
   "id": "861f812d",
   "metadata": {},
   "outputs": [],
   "source": [
    "stemming=PorterStemmer()"
   ]
  },
  {
   "cell_type": "code",
   "execution_count": 15,
   "id": "468e3f42",
   "metadata": {},
   "outputs": [
    {
     "name": "stdout",
     "output_type": "stream",
     "text": [
      "eating---->eat\n",
      "eats---->eat\n",
      "eaten---->eaten\n",
      "writing---->write\n",
      "writes---->write\n",
      "programming---->program\n",
      "programs---->program\n"
     ]
    }
   ],
   "source": [
    "for i in words:\n",
    "    print(i+\"---->\"+stemming.stem(i))"
   ]
  },
  {
   "cell_type": "code",
   "execution_count": 10,
   "id": "7677c2cb",
   "metadata": {},
   "outputs": [
    {
     "name": "stdout",
     "output_type": "stream",
     "text": [
      "playing ----> play\n",
      "played ----> play\n",
      "player ----> player\n"
     ]
    }
   ],
   "source": [
    "\n",
    "words = ['playing', 'played', 'player']\n",
    "stemmer = PorterStemmer()\n",
    "\n",
    "for word in words:\n",
    "    print(word + \" ----> \" + stemmer.stem(word))"
   ]
  },
  {
   "cell_type": "code",
   "execution_count": 16,
   "id": "b8e1e32f",
   "metadata": {},
   "outputs": [
    {
     "data": {
      "text/plain": [
       "'congratul'"
      ]
     },
     "execution_count": 16,
     "metadata": {},
     "output_type": "execute_result"
    }
   ],
   "source": [
    "stemming.stem('congratulations')"
   ]
  },
  {
   "cell_type": "markdown",
   "id": "4b1078c6",
   "metadata": {},
   "source": []
  },
  {
   "cell_type": "markdown",
   "id": "e9dda4f4",
   "metadata": {},
   "source": [
    "### RegexpStemmer"
   ]
  },
  {
   "cell_type": "code",
   "execution_count": 18,
   "id": "d3fc8d49",
   "metadata": {},
   "outputs": [],
   "source": [
    "from nltk.stem import RegexpStemmer"
   ]
  },
  {
   "cell_type": "code",
   "execution_count": 19,
   "id": "5cc16194",
   "metadata": {},
   "outputs": [],
   "source": [
    "reg_stemmer = RegexpStemmer('ing$|s$|e$|able$', min=4)"
   ]
  },
  {
   "cell_type": "code",
   "execution_count": 22,
   "id": "3f087d54",
   "metadata": {},
   "outputs": [
    {
     "data": {
      "text/plain": [
       "'dis'"
      ]
     },
     "execution_count": 22,
     "metadata": {},
     "output_type": "execute_result"
    }
   ],
   "source": [
    "reg_stemmer.stem('disable')"
   ]
  },
  {
   "cell_type": "markdown",
   "id": "142ee22f",
   "metadata": {},
   "source": [
    "### Snowball Stemmer"
   ]
  },
  {
   "cell_type": "code",
   "execution_count": 24,
   "id": "70001fa7",
   "metadata": {},
   "outputs": [],
   "source": [
    "from nltk.stem import SnowballStemmer"
   ]
  },
  {
   "cell_type": "code",
   "execution_count": 25,
   "id": "6c7580db",
   "metadata": {},
   "outputs": [],
   "source": [
    "snow = SnowballStemmer('english')"
   ]
  },
  {
   "cell_type": "code",
   "execution_count": 26,
   "id": "e54b180b",
   "metadata": {},
   "outputs": [
    {
     "name": "stdout",
     "output_type": "stream",
     "text": [
      "eating--->eat\n",
      "eats--->eat\n",
      "eaten--->eaten\n",
      "writing--->write\n",
      "writes--->write\n",
      "programming--->program\n",
      "programs--->program\n"
     ]
    }
   ],
   "source": [
    "for i in words:\n",
    "    print(i+\"--->\"+snow.stem(i))"
   ]
  },
  {
   "cell_type": "code",
   "execution_count": null,
   "id": "545bef84",
   "metadata": {},
   "outputs": [],
   "source": [
    "##comparison between PorterStemmer vs Snowball Stemmer"
   ]
  },
  {
   "cell_type": "code",
   "execution_count": 27,
   "id": "68bec007",
   "metadata": {},
   "outputs": [
    {
     "data": {
      "text/plain": [
       "('fairli', 'sportingli')"
      ]
     },
     "execution_count": 27,
     "metadata": {},
     "output_type": "execute_result"
    }
   ],
   "source": [
    "stemming.stem(\"fairly\"),stemming.stem(\"sportingly\")"
   ]
  },
  {
   "cell_type": "code",
   "execution_count": 29,
   "id": "dd89b61c",
   "metadata": {},
   "outputs": [
    {
     "data": {
      "text/plain": [
       "('fair', 'sport')"
      ]
     },
     "execution_count": 29,
     "metadata": {},
     "output_type": "execute_result"
    }
   ],
   "source": [
    "snow.stem(\"fairly\"), snow.stem('sportingly')"
   ]
  },
  {
   "cell_type": "code",
   "execution_count": 30,
   "id": "e3c2895b",
   "metadata": {},
   "outputs": [
    {
     "data": {
      "text/plain": [
       "'goe'"
      ]
     },
     "execution_count": 30,
     "metadata": {},
     "output_type": "execute_result"
    }
   ],
   "source": [
    "snow.stem('goes')"
   ]
  }
 ],
 "metadata": {
  "kernelspec": {
   "display_name": "Python 3 (ipykernel)",
   "language": "python",
   "name": "python3"
  },
  "language_info": {
   "codemirror_mode": {
    "name": "ipython",
    "version": 3
   },
   "file_extension": ".py",
   "mimetype": "text/x-python",
   "name": "python",
   "nbconvert_exporter": "python",
   "pygments_lexer": "ipython3",
   "version": "3.10.9"
  }
 },
 "nbformat": 4,
 "nbformat_minor": 5
}
